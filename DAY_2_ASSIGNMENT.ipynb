{
  "nbformat": 4,
  "nbformat_minor": 0,
  "metadata": {
    "colab": {
      "name": "DAY 2 ASSIGNMENT",
      "provenance": []
    },
    "kernelspec": {
      "name": "python3",
      "display_name": "Python 3"
    },
    "language_info": {
      "name": "python"
    }
  },
  "cells": [
    {
      "cell_type": "code",
      "metadata": {
        "id": "8kZlcxBXVrlf"
      },
      "source": [
        "import pandas as pd\n",
        "import numpy as np\n",
        "from numpy.random import randn, randint\n",
        "import matplotlib.pyplot as plt\n",
        "%matplotlib inline "
      ],
      "execution_count": 7,
      "outputs": []
    },
    {
      "cell_type": "code",
      "metadata": {
        "colab": {
          "base_uri": "https://localhost:8080/",
          "height": 359
        },
        "id": "p085f3pwX3y8",
        "outputId": "203a5274-9792-4b66-8b3d-7149da1ce38d"
      },
      "source": [
        "df = pd.DataFrame(randn(10,4), columns=['a','b','c','d'])\n",
        "df"
      ],
      "execution_count": 9,
      "outputs": [
        {
          "output_type": "execute_result",
          "data": {
            "text/html": [
              "<div>\n",
              "<style scoped>\n",
              "    .dataframe tbody tr th:only-of-type {\n",
              "        vertical-align: middle;\n",
              "    }\n",
              "\n",
              "    .dataframe tbody tr th {\n",
              "        vertical-align: top;\n",
              "    }\n",
              "\n",
              "    .dataframe thead th {\n",
              "        text-align: right;\n",
              "    }\n",
              "</style>\n",
              "<table border=\"1\" class=\"dataframe\">\n",
              "  <thead>\n",
              "    <tr style=\"text-align: right;\">\n",
              "      <th></th>\n",
              "      <th>a</th>\n",
              "      <th>b</th>\n",
              "      <th>c</th>\n",
              "      <th>d</th>\n",
              "    </tr>\n",
              "  </thead>\n",
              "  <tbody>\n",
              "    <tr>\n",
              "      <th>0</th>\n",
              "      <td>-1.399674</td>\n",
              "      <td>0.114839</td>\n",
              "      <td>1.164747</td>\n",
              "      <td>0.778059</td>\n",
              "    </tr>\n",
              "    <tr>\n",
              "      <th>1</th>\n",
              "      <td>-0.269302</td>\n",
              "      <td>0.540618</td>\n",
              "      <td>-0.066442</td>\n",
              "      <td>-2.511459</td>\n",
              "    </tr>\n",
              "    <tr>\n",
              "      <th>2</th>\n",
              "      <td>1.715166</td>\n",
              "      <td>1.368119</td>\n",
              "      <td>0.639537</td>\n",
              "      <td>-0.067375</td>\n",
              "    </tr>\n",
              "    <tr>\n",
              "      <th>3</th>\n",
              "      <td>0.293953</td>\n",
              "      <td>-0.870215</td>\n",
              "      <td>-0.326094</td>\n",
              "      <td>0.764621</td>\n",
              "    </tr>\n",
              "    <tr>\n",
              "      <th>4</th>\n",
              "      <td>-0.723900</td>\n",
              "      <td>0.481683</td>\n",
              "      <td>-0.714413</td>\n",
              "      <td>-0.972212</td>\n",
              "    </tr>\n",
              "    <tr>\n",
              "      <th>5</th>\n",
              "      <td>0.226218</td>\n",
              "      <td>-0.082018</td>\n",
              "      <td>1.092678</td>\n",
              "      <td>-1.877674</td>\n",
              "    </tr>\n",
              "    <tr>\n",
              "      <th>6</th>\n",
              "      <td>0.782093</td>\n",
              "      <td>-1.044227</td>\n",
              "      <td>0.774871</td>\n",
              "      <td>-0.162976</td>\n",
              "    </tr>\n",
              "    <tr>\n",
              "      <th>7</th>\n",
              "      <td>0.576329</td>\n",
              "      <td>1.088426</td>\n",
              "      <td>-1.593060</td>\n",
              "      <td>1.189180</td>\n",
              "    </tr>\n",
              "    <tr>\n",
              "      <th>8</th>\n",
              "      <td>0.427071</td>\n",
              "      <td>1.215739</td>\n",
              "      <td>-0.391210</td>\n",
              "      <td>0.215300</td>\n",
              "    </tr>\n",
              "    <tr>\n",
              "      <th>9</th>\n",
              "      <td>0.405335</td>\n",
              "      <td>-0.043100</td>\n",
              "      <td>-0.807196</td>\n",
              "      <td>-0.297770</td>\n",
              "    </tr>\n",
              "  </tbody>\n",
              "</table>\n",
              "</div>"
            ],
            "text/plain": [
              "          a         b         c         d\n",
              "0 -1.399674  0.114839  1.164747  0.778059\n",
              "1 -0.269302  0.540618 -0.066442 -2.511459\n",
              "2  1.715166  1.368119  0.639537 -0.067375\n",
              "3  0.293953 -0.870215 -0.326094  0.764621\n",
              "4 -0.723900  0.481683 -0.714413 -0.972212\n",
              "5  0.226218 -0.082018  1.092678 -1.877674\n",
              "6  0.782093 -1.044227  0.774871 -0.162976\n",
              "7  0.576329  1.088426 -1.593060  1.189180\n",
              "8  0.427071  1.215739 -0.391210  0.215300\n",
              "9  0.405335 -0.043100 -0.807196 -0.297770"
            ]
          },
          "metadata": {
            "tags": []
          },
          "execution_count": 9
        }
      ]
    },
    {
      "cell_type": "code",
      "metadata": {
        "colab": {
          "base_uri": "https://localhost:8080/",
          "height": 531
        },
        "id": "U9FJlxdoc-sy",
        "outputId": "ca03a69c-362a-4d55-d56f-919fa050362d"
      },
      "source": [
        "df.plot(kind='bar',figsize=(15,8))\n",
        "plt.xlabel('x-axis',fontsize=13)\n",
        "plt.ylabel('y-axis',fontsize=13)\n",
        "plt.title('BAR PLOT',fontsize =16)"
      ],
      "execution_count": 12,
      "outputs": [
        {
          "output_type": "execute_result",
          "data": {
            "text/plain": [
              "Text(0.5, 1.0, 'BAR PLOT')"
            ]
          },
          "metadata": {
            "tags": []
          },
          "execution_count": 12
        },
        {
          "output_type": "display_data",
          "data": {
            "image/png": "[encoded data removed]",
            "text/plain": [
              "<Figure size 1080x576 with 1 Axes>"
            ]
          },
          "metadata": {
            "tags": [],
            "needs_background": "light"
          }
        }
      ]
    }
  ]
}